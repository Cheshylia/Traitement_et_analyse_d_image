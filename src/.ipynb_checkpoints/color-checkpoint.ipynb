{
 "cells": [
  {
   "cell_type": "code",
   "execution_count": 1,
   "metadata": {},
   "outputs": [],
   "source": [
    "# -*- coding: utf-8 -*-\n",
    "\n",
    "from __future__ import print_function\n",
    "\n",
    "from evaluate import distance, evaluate_class\n",
    "from DB import Database\n",
    "\n",
    "from six.moves import cPickle\n",
    "import numpy as np\n",
    "import imageio\n",
    "import itertools\n",
    "import os"
   ]
  },
  {
   "cell_type": "code",
   "execution_count": 2,
   "metadata": {},
   "outputs": [
    {
     "data": {
      "text/plain": [
       "' MMAP\\n     depth\\n      depthNone, region,bin12,slice3, distance=d1, MMAP 0.273745840034\\n      depth100,  region,bin12,slice3, distance=d1, MMAP 0.406007856783\\n      depth30,   region,bin12,slice3, distance=d1, MMAP 0.516738512679\\n      depth10,   region,bin12,slice3, distance=d1, MMAP 0.614047666604\\n      depth5,    region,bin12,slice3, distance=d1, MMAP 0.650125\\n      depth3,    region,bin12,slice3, distance=d1, MMAP 0.657166666667\\n      depth1,    region,bin12,slice3, distance=d1, MMAP 0.62\\n\\n     (exps below use depth=None)\\n     \\n     d_type\\n      global,bin6,d1,MMAP 0.242345913685\\n      global,bin6,cosine,MMAP 0.184176505586\\n\\n     n_bin\\n      region,bin10,slice4,d1,MMAP 0.269872790396\\n      region,bin12,slice4,d1,MMAP 0.271520862017\\n\\n      region,bin6,slcie3,d1,MMAP 0.262819311357\\n      region,bin12,slice3,d1,MMAP 0.273745840034\\n\\n     n_slice\\n      region,bin12,slice2,d1,MMAP 0.266076627332\\n      region,bin12,slice3,d1,MMAP 0.273745840034\\n      region,bin12,slice4,d1,MMAP 0.271520862017\\n      region,bin14,slice3,d1,MMAP 0.272386552594\\n      region,bin14,slice5,d1,MMAP 0.266877181379\\n      region,bin16,slice3,d1,MMAP 0.273716788003\\n      region,bin16,slice4,d1,MMAP 0.272221031804\\n      region,bin16,slice8,d1,MMAP 0.253823360098\\n\\n     h_type\\n      region,bin4,slice2,d1,MMAP 0.23358615622\\n      global,bin4,d1,MMAP 0.229125435746\\n'"
      ]
     },
     "execution_count": 2,
     "metadata": {},
     "output_type": "execute_result"
    }
   ],
   "source": [
    "# configs for histogram\n",
    "n_bin   = 12        # histogram bins\n",
    "n_slice = 3         # slice image\n",
    "h_type  = 'region'  # global or region\n",
    "d_type  = 'd1'      # distance type\n",
    "\n",
    "depth   = 3         # retrieved depth, set to None will count the ap for whole database\n",
    "\n",
    "''' MMAP\n",
    "     depth\n",
    "      depthNone, region,bin12,slice3, distance=d1, MMAP 0.273745840034\n",
    "      depth100,  region,bin12,slice3, distance=d1, MMAP 0.406007856783\n",
    "      depth30,   region,bin12,slice3, distance=d1, MMAP 0.516738512679\n",
    "      depth10,   region,bin12,slice3, distance=d1, MMAP 0.614047666604\n",
    "      depth5,    region,bin12,slice3, distance=d1, MMAP 0.650125\n",
    "      depth3,    region,bin12,slice3, distance=d1, MMAP 0.657166666667\n",
    "      depth1,    region,bin12,slice3, distance=d1, MMAP 0.62\n",
    "\n",
    "     (exps below use depth=None)\n",
    "     \n",
    "     d_type\n",
    "      global,bin6,d1,MMAP 0.242345913685\n",
    "      global,bin6,cosine,MMAP 0.184176505586\n",
    "\n",
    "     n_bin\n",
    "      region,bin10,slice4,d1,MMAP 0.269872790396\n",
    "      region,bin12,slice4,d1,MMAP 0.271520862017\n",
    "\n",
    "      region,bin6,slcie3,d1,MMAP 0.262819311357\n",
    "      region,bin12,slice3,d1,MMAP 0.273745840034\n",
    "\n",
    "     n_slice\n",
    "      region,bin12,slice2,d1,MMAP 0.266076627332\n",
    "      region,bin12,slice3,d1,MMAP 0.273745840034\n",
    "      region,bin12,slice4,d1,MMAP 0.271520862017\n",
    "      region,bin14,slice3,d1,MMAP 0.272386552594\n",
    "      region,bin14,slice5,d1,MMAP 0.266877181379\n",
    "      region,bin16,slice3,d1,MMAP 0.273716788003\n",
    "      region,bin16,slice4,d1,MMAP 0.272221031804\n",
    "      region,bin16,slice8,d1,MMAP 0.253823360098\n",
    "\n",
    "     h_type\n",
    "      region,bin4,slice2,d1,MMAP 0.23358615622\n",
    "      global,bin4,d1,MMAP 0.229125435746\n",
    "'''"
   ]
  },
  {
   "cell_type": "code",
   "execution_count": 3,
   "metadata": {},
   "outputs": [],
   "source": [
    "# cache dir\n",
    "cache_dir = 'cache'\n",
    "if not os.path.exists(cache_dir):\n",
    "  os.makedirs(cache_dir)"
   ]
  },
  {
   "cell_type": "code",
   "execution_count": 4,
   "metadata": {},
   "outputs": [],
   "source": [
    "class Color(object):\n",
    "\n",
    "  def histogram(self, input, n_bin=n_bin, type=h_type, n_slice=n_slice, normalize=True):\n",
    "    ''' count img color histogram\n",
    "  \n",
    "      arguments\n",
    "        input    : a path to a image or a numpy.ndarray\n",
    "        n_bin    : number of bins for each channel\n",
    "        type     : 'global' means count the histogram for whole image\n",
    "                   'region' means count the histogram for regions in images, then concatanate all of them\n",
    "        n_slice  : work when type equals to 'region', height & width will equally sliced into N slices\n",
    "        normalize: normalize output histogram\n",
    "  \n",
    "      return\n",
    "        type == 'global'\n",
    "          a numpy array with size n_bin ** channel\n",
    "        type == 'region'\n",
    "          a numpy array with size n_slice * n_slice * (n_bin ** channel)\n",
    "    '''\n",
    "    if isinstance(input, np.ndarray):  # examinate input type\n",
    "      img = input.copy()\n",
    "    else:\n",
    "      img = imageio.imread(input)\n",
    "    height, width, channel = img.shape\n",
    "    bins = np.linspace(0, 256, n_bin+1, endpoint=True)  # slice bins equally for each channel\n",
    "  \n",
    "    if type == 'global':\n",
    "      hist = self._count_hist(img, n_bin, bins, channel)\n",
    "  \n",
    "    elif type == 'region':\n",
    "      hist = np.zeros((n_slice, n_slice, n_bin ** channel))\n",
    "      h_silce = np.around(np.linspace(0, height, n_slice+1, endpoint=True)).astype(int)\n",
    "      w_slice = np.around(np.linspace(0, width, n_slice+1, endpoint=True)).astype(int)\n",
    "  \n",
    "      for hs in range(len(h_silce)-1):\n",
    "        for ws in range(len(w_slice)-1):\n",
    "          img_r = img[h_silce[hs]:h_silce[hs+1], w_slice[ws]:w_slice[ws+1]]  # slice img to regions\n",
    "          hist[hs][ws] = self._count_hist(img_r, n_bin, bins, channel)\n",
    "  \n",
    "    if normalize:\n",
    "      hist /= np.sum(hist)\n",
    "  \n",
    "    return hist.flatten()"
   ]
  },
  {
   "cell_type": "code",
   "execution_count": 8,
   "metadata": {},
   "outputs": [],
   "source": [
    " def _count_hist(self, input, n_bin, bins, channel):\n",
    "    img = input.copy()\n",
    "    bins_idx = {key: idx for idx, key in enumerate(itertools.product(np.arange(n_bin), repeat=channel))}  # permutation of bins\n",
    "    hist = np.zeros(n_bin ** channel)\n",
    "  \n",
    "    # cluster every pixels\n",
    "    for idx in range(len(bins)-1):\n",
    "      img[(input >= bins[idx]) & (input < bins[idx+1])] = idx\n",
    "    # add pixels into bins\n",
    "    height, width, _ = img.shape\n",
    "    for h in range(height):\n",
    "      for w in range(width):\n",
    "        b_idx = bins_idx[tuple(img[h,w])]\n",
    "        hist[b_idx] += 1\n",
    "  \n",
    "    return hist"
   ]
  },
  {
   "cell_type": "code",
   "execution_count": 6,
   "metadata": {},
   "outputs": [],
   "source": [
    "def make_samples(self, db, verbose=True):\n",
    "    if h_type == 'global':\n",
    "      sample_cache = \"histogram_cache-{}-n_bin{}\".format(h_type, n_bin)\n",
    "    elif h_type == 'region':\n",
    "      sample_cache = \"histogram_cache-{}-n_bin{}-n_slice{}\".format(h_type, n_bin, n_slice)\n",
    "    \n",
    "    try:\n",
    "      samples = cPickle.load(open(os.path.join(cache_dir, sample_cache), \"rb\", True))\n",
    "      if verbose:\n",
    "        print(\"Using cache..., config=%s, distance=%s, depth=%s\" % (sample_cache, d_type, depth))\n",
    "    except:\n",
    "      if verbose:\n",
    "        print(\"Counting histogram..., config=%s, distance=%s, depth=%s\" % (sample_cache, d_type, depth))\n",
    "      samples = []\n",
    "      data = db.get_data()\n",
    "      for d in data.itertuples():\n",
    "        d_img, d_cls = getattr(d, \"img\"), getattr(d, \"cls\")\n",
    "        d_hist = self.histogram(d_img, type=h_type, n_bin=n_bin, n_slice=n_slice)\n",
    "        samples.append({\n",
    "                        'img':  d_img, \n",
    "                        'cls':  d_cls, \n",
    "                        'hist': d_hist\n",
    "                      })\n",
    "      cPickle.dump(samples, open(os.path.join(cache_dir, sample_cache), \"wb\", True))\n",
    "  \n",
    "    return samples"
   ]
  },
  {
   "cell_type": "code",
   "execution_count": 7,
   "metadata": {},
   "outputs": [
    {
     "name": "stderr",
     "output_type": "stream",
     "text": [
      "/home/emma/anaconda3/lib/python3.7/site-packages/ipykernel_launcher.py:7: FutureWarning: \n",
      ".ix is deprecated. Please use\n",
      ".loc for label based indexing or\n",
      ".iloc for positional indexing\n",
      "\n",
      "See the documentation here:\n",
      "http://pandas.pydata.org/pandas-docs/stable/user_guide/indexing.html#ix-indexer-is-deprecated\n",
      "  import sys\n"
     ]
    },
    {
     "ename": "IndexError",
     "evalue": "index 0 is out of bounds for axis 0 with size 0",
     "output_type": "error",
     "traceback": [
      "\u001b[0;31m---------------------------------------------------------------------------\u001b[0m",
      "\u001b[0;31mIndexError\u001b[0m                                Traceback (most recent call last)",
      "\u001b[0;32m<ipython-input-7-8c2af6695be1>\u001b[0m in \u001b[0;36m<module>\u001b[0;34m\u001b[0m\n\u001b[1;32m      5\u001b[0m \u001b[0;34m\u001b[0m\u001b[0m\n\u001b[1;32m      6\u001b[0m   \u001b[0;31m# test normalize\u001b[0m\u001b[0;34m\u001b[0m\u001b[0;34m\u001b[0m\u001b[0;34m\u001b[0m\u001b[0m\n\u001b[0;32m----> 7\u001b[0;31m   \u001b[0mhist\u001b[0m \u001b[0;34m=\u001b[0m \u001b[0mcolor\u001b[0m\u001b[0;34m.\u001b[0m\u001b[0mhistogram\u001b[0m\u001b[0;34m(\u001b[0m\u001b[0mdata\u001b[0m\u001b[0;34m.\u001b[0m\u001b[0mix\u001b[0m\u001b[0;34m[\u001b[0m\u001b[0;36m0\u001b[0m\u001b[0;34m,\u001b[0m\u001b[0;36m0\u001b[0m\u001b[0;34m]\u001b[0m\u001b[0;34m,\u001b[0m \u001b[0mtype\u001b[0m\u001b[0;34m=\u001b[0m\u001b[0;34m'global'\u001b[0m\u001b[0;34m)\u001b[0m\u001b[0;34m\u001b[0m\u001b[0;34m\u001b[0m\u001b[0m\n\u001b[0m\u001b[1;32m      8\u001b[0m   \u001b[0;32massert\u001b[0m \u001b[0mhist\u001b[0m\u001b[0;34m.\u001b[0m\u001b[0msum\u001b[0m\u001b[0;34m(\u001b[0m\u001b[0;34m)\u001b[0m \u001b[0;34m-\u001b[0m \u001b[0;36m1\u001b[0m \u001b[0;34m<\u001b[0m \u001b[0;36m1e-9\u001b[0m\u001b[0;34m,\u001b[0m \u001b[0;34m\"normalize false\"\u001b[0m\u001b[0;34m\u001b[0m\u001b[0;34m\u001b[0m\u001b[0m\n\u001b[1;32m      9\u001b[0m \u001b[0;34m\u001b[0m\u001b[0m\n",
      "\u001b[0;32m~/anaconda3/lib/python3.7/site-packages/pandas/core/indexing.py\u001b[0m in \u001b[0;36m__getitem__\u001b[0;34m(self, key)\u001b[0m\n\u001b[1;32m    140\u001b[0m                     \u001b[0;32mreturn\u001b[0m \u001b[0mvalues\u001b[0m\u001b[0;34m\u001b[0m\u001b[0;34m\u001b[0m\u001b[0m\n\u001b[1;32m    141\u001b[0m \u001b[0;34m\u001b[0m\u001b[0m\n\u001b[0;32m--> 142\u001b[0;31m             \u001b[0;32mreturn\u001b[0m \u001b[0mself\u001b[0m\u001b[0;34m.\u001b[0m\u001b[0m_getitem_tuple\u001b[0m\u001b[0;34m(\u001b[0m\u001b[0mkey\u001b[0m\u001b[0;34m)\u001b[0m\u001b[0;34m\u001b[0m\u001b[0;34m\u001b[0m\u001b[0m\n\u001b[0m\u001b[1;32m    143\u001b[0m         \u001b[0;32melse\u001b[0m\u001b[0;34m:\u001b[0m\u001b[0;34m\u001b[0m\u001b[0;34m\u001b[0m\u001b[0m\n\u001b[1;32m    144\u001b[0m             \u001b[0;31m# we by definition only have the 0th axis\u001b[0m\u001b[0;34m\u001b[0m\u001b[0;34m\u001b[0m\u001b[0;34m\u001b[0m\u001b[0m\n",
      "\u001b[0;32m~/anaconda3/lib/python3.7/site-packages/pandas/core/indexing.py\u001b[0m in \u001b[0;36m_getitem_tuple\u001b[0;34m(self, tup)\u001b[0m\n\u001b[1;32m    803\u001b[0m     \u001b[0;32mdef\u001b[0m \u001b[0m_getitem_tuple\u001b[0m\u001b[0;34m(\u001b[0m\u001b[0mself\u001b[0m\u001b[0;34m,\u001b[0m \u001b[0mtup\u001b[0m\u001b[0;34m)\u001b[0m\u001b[0;34m:\u001b[0m\u001b[0;34m\u001b[0m\u001b[0;34m\u001b[0m\u001b[0m\n\u001b[1;32m    804\u001b[0m         \u001b[0;32mtry\u001b[0m\u001b[0;34m:\u001b[0m\u001b[0;34m\u001b[0m\u001b[0;34m\u001b[0m\u001b[0m\n\u001b[0;32m--> 805\u001b[0;31m             \u001b[0;32mreturn\u001b[0m \u001b[0mself\u001b[0m\u001b[0;34m.\u001b[0m\u001b[0m_getitem_lowerdim\u001b[0m\u001b[0;34m(\u001b[0m\u001b[0mtup\u001b[0m\u001b[0;34m)\u001b[0m\u001b[0;34m\u001b[0m\u001b[0;34m\u001b[0m\u001b[0m\n\u001b[0m\u001b[1;32m    806\u001b[0m         \u001b[0;32mexcept\u001b[0m \u001b[0mIndexingError\u001b[0m\u001b[0;34m:\u001b[0m\u001b[0;34m\u001b[0m\u001b[0;34m\u001b[0m\u001b[0m\n\u001b[1;32m    807\u001b[0m             \u001b[0;32mpass\u001b[0m\u001b[0;34m\u001b[0m\u001b[0;34m\u001b[0m\u001b[0m\n",
      "\u001b[0;32m~/anaconda3/lib/python3.7/site-packages/pandas/core/indexing.py\u001b[0m in \u001b[0;36m_getitem_lowerdim\u001b[0;34m(self, tup)\u001b[0m\n\u001b[1;32m    927\u001b[0m         \u001b[0;32mfor\u001b[0m \u001b[0mi\u001b[0m\u001b[0;34m,\u001b[0m \u001b[0mkey\u001b[0m \u001b[0;32min\u001b[0m \u001b[0menumerate\u001b[0m\u001b[0;34m(\u001b[0m\u001b[0mtup\u001b[0m\u001b[0;34m)\u001b[0m\u001b[0;34m:\u001b[0m\u001b[0;34m\u001b[0m\u001b[0;34m\u001b[0m\u001b[0m\n\u001b[1;32m    928\u001b[0m             \u001b[0;32mif\u001b[0m \u001b[0mis_label_like\u001b[0m\u001b[0;34m(\u001b[0m\u001b[0mkey\u001b[0m\u001b[0;34m)\u001b[0m \u001b[0;32mor\u001b[0m \u001b[0misinstance\u001b[0m\u001b[0;34m(\u001b[0m\u001b[0mkey\u001b[0m\u001b[0;34m,\u001b[0m \u001b[0mtuple\u001b[0m\u001b[0;34m)\u001b[0m\u001b[0;34m:\u001b[0m\u001b[0;34m\u001b[0m\u001b[0;34m\u001b[0m\u001b[0m\n\u001b[0;32m--> 929\u001b[0;31m                 \u001b[0msection\u001b[0m \u001b[0;34m=\u001b[0m \u001b[0mself\u001b[0m\u001b[0;34m.\u001b[0m\u001b[0m_getitem_axis\u001b[0m\u001b[0;34m(\u001b[0m\u001b[0mkey\u001b[0m\u001b[0;34m,\u001b[0m \u001b[0maxis\u001b[0m\u001b[0;34m=\u001b[0m\u001b[0mi\u001b[0m\u001b[0;34m)\u001b[0m\u001b[0;34m\u001b[0m\u001b[0;34m\u001b[0m\u001b[0m\n\u001b[0m\u001b[1;32m    930\u001b[0m \u001b[0;34m\u001b[0m\u001b[0m\n\u001b[1;32m    931\u001b[0m                 \u001b[0;31m# we have yielded a scalar ?\u001b[0m\u001b[0;34m\u001b[0m\u001b[0;34m\u001b[0m\u001b[0;34m\u001b[0m\u001b[0m\n",
      "\u001b[0;32m~/anaconda3/lib/python3.7/site-packages/pandas/core/indexing.py\u001b[0m in \u001b[0;36m_getitem_axis\u001b[0;34m(self, key, axis)\u001b[0m\n\u001b[1;32m   1036\u001b[0m                 \u001b[0;31m# this is the fallback! (for a non-float, non-integer index)\u001b[0m\u001b[0;34m\u001b[0m\u001b[0;34m\u001b[0m\u001b[0;34m\u001b[0m\u001b[0m\n\u001b[1;32m   1037\u001b[0m                 \u001b[0;32mif\u001b[0m \u001b[0;32mnot\u001b[0m \u001b[0mlabels\u001b[0m\u001b[0;34m.\u001b[0m\u001b[0mis_floating\u001b[0m\u001b[0;34m(\u001b[0m\u001b[0;34m)\u001b[0m \u001b[0;32mand\u001b[0m \u001b[0;32mnot\u001b[0m \u001b[0mlabels\u001b[0m\u001b[0;34m.\u001b[0m\u001b[0mis_integer\u001b[0m\u001b[0;34m(\u001b[0m\u001b[0;34m)\u001b[0m\u001b[0;34m:\u001b[0m\u001b[0;34m\u001b[0m\u001b[0;34m\u001b[0m\u001b[0m\n\u001b[0;32m-> 1038\u001b[0;31m                     \u001b[0;32mreturn\u001b[0m \u001b[0mself\u001b[0m\u001b[0;34m.\u001b[0m\u001b[0m_get_loc\u001b[0m\u001b[0;34m(\u001b[0m\u001b[0mkey\u001b[0m\u001b[0;34m,\u001b[0m \u001b[0maxis\u001b[0m\u001b[0;34m=\u001b[0m\u001b[0maxis\u001b[0m\u001b[0;34m)\u001b[0m\u001b[0;34m\u001b[0m\u001b[0;34m\u001b[0m\u001b[0m\n\u001b[0m\u001b[1;32m   1039\u001b[0m \u001b[0;34m\u001b[0m\u001b[0m\n\u001b[1;32m   1040\u001b[0m             \u001b[0;32mreturn\u001b[0m \u001b[0mself\u001b[0m\u001b[0;34m.\u001b[0m\u001b[0m_get_label\u001b[0m\u001b[0;34m(\u001b[0m\u001b[0mkey\u001b[0m\u001b[0;34m,\u001b[0m \u001b[0maxis\u001b[0m\u001b[0;34m=\u001b[0m\u001b[0maxis\u001b[0m\u001b[0;34m)\u001b[0m\u001b[0;34m\u001b[0m\u001b[0;34m\u001b[0m\u001b[0m\n",
      "\u001b[0;32m~/anaconda3/lib/python3.7/site-packages/pandas/core/indexing.py\u001b[0m in \u001b[0;36m_get_loc\u001b[0;34m(self, key, axis)\u001b[0m\n\u001b[1;32m    161\u001b[0m \u001b[0;34m\u001b[0m\u001b[0m\n\u001b[1;32m    162\u001b[0m     \u001b[0;32mdef\u001b[0m \u001b[0m_get_loc\u001b[0m\u001b[0;34m(\u001b[0m\u001b[0mself\u001b[0m\u001b[0;34m,\u001b[0m \u001b[0mkey\u001b[0m\u001b[0;34m:\u001b[0m \u001b[0mint\u001b[0m\u001b[0;34m,\u001b[0m \u001b[0maxis\u001b[0m\u001b[0;34m:\u001b[0m \u001b[0mint\u001b[0m\u001b[0;34m)\u001b[0m\u001b[0;34m:\u001b[0m\u001b[0;34m\u001b[0m\u001b[0;34m\u001b[0m\u001b[0m\n\u001b[0;32m--> 163\u001b[0;31m         \u001b[0;32mreturn\u001b[0m \u001b[0mself\u001b[0m\u001b[0;34m.\u001b[0m\u001b[0mobj\u001b[0m\u001b[0;34m.\u001b[0m\u001b[0m_ixs\u001b[0m\u001b[0;34m(\u001b[0m\u001b[0mkey\u001b[0m\u001b[0;34m,\u001b[0m \u001b[0maxis\u001b[0m\u001b[0;34m=\u001b[0m\u001b[0maxis\u001b[0m\u001b[0;34m)\u001b[0m\u001b[0;34m\u001b[0m\u001b[0;34m\u001b[0m\u001b[0m\n\u001b[0m\u001b[1;32m    164\u001b[0m \u001b[0;34m\u001b[0m\u001b[0m\n\u001b[1;32m    165\u001b[0m     \u001b[0;32mdef\u001b[0m \u001b[0m_slice\u001b[0m\u001b[0;34m(\u001b[0m\u001b[0mself\u001b[0m\u001b[0;34m,\u001b[0m \u001b[0mobj\u001b[0m\u001b[0;34m,\u001b[0m \u001b[0maxis\u001b[0m\u001b[0;34m:\u001b[0m \u001b[0mint\u001b[0m\u001b[0;34m,\u001b[0m \u001b[0mkind\u001b[0m\u001b[0;34m=\u001b[0m\u001b[0;32mNone\u001b[0m\u001b[0;34m)\u001b[0m\u001b[0;34m:\u001b[0m\u001b[0;34m\u001b[0m\u001b[0;34m\u001b[0m\u001b[0m\n",
      "\u001b[0;32m~/anaconda3/lib/python3.7/site-packages/pandas/core/frame.py\u001b[0m in \u001b[0;36m_ixs\u001b[0;34m(self, i, axis)\u001b[0m\n\u001b[1;32m   2912\u001b[0m         \u001b[0;31m# irow\u001b[0m\u001b[0;34m\u001b[0m\u001b[0;34m\u001b[0m\u001b[0;34m\u001b[0m\u001b[0m\n\u001b[1;32m   2913\u001b[0m         \u001b[0;32mif\u001b[0m \u001b[0maxis\u001b[0m \u001b[0;34m==\u001b[0m \u001b[0;36m0\u001b[0m\u001b[0;34m:\u001b[0m\u001b[0;34m\u001b[0m\u001b[0;34m\u001b[0m\u001b[0m\n\u001b[0;32m-> 2914\u001b[0;31m             \u001b[0mlabel\u001b[0m \u001b[0;34m=\u001b[0m \u001b[0mself\u001b[0m\u001b[0;34m.\u001b[0m\u001b[0mindex\u001b[0m\u001b[0;34m[\u001b[0m\u001b[0mi\u001b[0m\u001b[0;34m]\u001b[0m\u001b[0;34m\u001b[0m\u001b[0;34m\u001b[0m\u001b[0m\n\u001b[0m\u001b[1;32m   2915\u001b[0m             \u001b[0mnew_values\u001b[0m \u001b[0;34m=\u001b[0m \u001b[0mself\u001b[0m\u001b[0;34m.\u001b[0m\u001b[0m_data\u001b[0m\u001b[0;34m.\u001b[0m\u001b[0mfast_xs\u001b[0m\u001b[0;34m(\u001b[0m\u001b[0mi\u001b[0m\u001b[0;34m)\u001b[0m\u001b[0;34m\u001b[0m\u001b[0;34m\u001b[0m\u001b[0m\n\u001b[1;32m   2916\u001b[0m             \u001b[0;32mif\u001b[0m \u001b[0mis_scalar\u001b[0m\u001b[0;34m(\u001b[0m\u001b[0mnew_values\u001b[0m\u001b[0;34m)\u001b[0m\u001b[0;34m:\u001b[0m\u001b[0;34m\u001b[0m\u001b[0;34m\u001b[0m\u001b[0m\n",
      "\u001b[0;32m~/anaconda3/lib/python3.7/site-packages/pandas/core/indexes/base.py\u001b[0m in \u001b[0;36m__getitem__\u001b[0;34m(self, key)\u001b[0m\n\u001b[1;32m   4278\u001b[0m         \u001b[0;32mif\u001b[0m \u001b[0mis_scalar\u001b[0m\u001b[0;34m(\u001b[0m\u001b[0mkey\u001b[0m\u001b[0;34m)\u001b[0m\u001b[0;34m:\u001b[0m\u001b[0;34m\u001b[0m\u001b[0;34m\u001b[0m\u001b[0m\n\u001b[1;32m   4279\u001b[0m             \u001b[0mkey\u001b[0m \u001b[0;34m=\u001b[0m \u001b[0mcom\u001b[0m\u001b[0;34m.\u001b[0m\u001b[0mcast_scalar_indexer\u001b[0m\u001b[0;34m(\u001b[0m\u001b[0mkey\u001b[0m\u001b[0;34m)\u001b[0m\u001b[0;34m\u001b[0m\u001b[0;34m\u001b[0m\u001b[0m\n\u001b[0;32m-> 4280\u001b[0;31m             \u001b[0;32mreturn\u001b[0m \u001b[0mgetitem\u001b[0m\u001b[0;34m(\u001b[0m\u001b[0mkey\u001b[0m\u001b[0;34m)\u001b[0m\u001b[0;34m\u001b[0m\u001b[0;34m\u001b[0m\u001b[0m\n\u001b[0m\u001b[1;32m   4281\u001b[0m \u001b[0;34m\u001b[0m\u001b[0m\n\u001b[1;32m   4282\u001b[0m         \u001b[0;32mif\u001b[0m \u001b[0misinstance\u001b[0m\u001b[0;34m(\u001b[0m\u001b[0mkey\u001b[0m\u001b[0;34m,\u001b[0m \u001b[0mslice\u001b[0m\u001b[0;34m)\u001b[0m\u001b[0;34m:\u001b[0m\u001b[0;34m\u001b[0m\u001b[0;34m\u001b[0m\u001b[0m\n",
      "\u001b[0;31mIndexError\u001b[0m: index 0 is out of bounds for axis 0 with size 0"
     ]
    }
   ],
   "source": [
    "if __name__ == \"__main__\":\n",
    "  db = Database()\n",
    "  data = db.get_data()\n",
    "  color = Color()\n",
    "\n",
    "  # test normalize\n",
    "  hist = color.histogram(data.ix[0,0], type='global')\n",
    "  assert hist.sum() - 1 < 1e-9, \"normalize false\"\n",
    "\n",
    "  # test histogram bins\n",
    "  def sigmoid(z):\n",
    "    a = 1.0 / (1.0 + np.exp(-1. * z))\n",
    "    return a\n",
    "  np.random.seed(0)\n",
    "  IMG = sigmoid(np.random.randn(2,2,3)) * 255\n",
    "  IMG = IMG.astype(int)\n",
    "  hist = color.histogram(IMG, type='global', n_bin=4)\n",
    "  assert np.equal(np.where(hist > 0)[0], np.array([37, 43, 58, 61])).all(), \"global histogram implement failed\"\n",
    "  hist = color.histogram(IMG, type='region', n_bin=4, n_slice=2)\n",
    "  assert np.equal(np.where(hist > 0)[0], np.array([58, 125, 165, 235])).all(), \"region histogram implement failed\"\n",
    "\n",
    "  # examinate distance\n",
    "  np.random.seed(1)\n",
    "  IMG = sigmoid(np.random.randn(4,4,3)) * 255\n",
    "  IMG = IMG.astype(int)\n",
    "  hist = color.histogram(IMG, type='region', n_bin=4, n_slice=2)\n",
    "  IMG2 = sigmoid(np.random.randn(4,4,3)) * 255\n",
    "  IMG2 = IMG2.astype(int)\n",
    "  hist2 = color.histogram(IMG2, type='region', n_bin=4, n_slice=2)\n",
    "  assert distance(hist, hist2, d_type='d1') == 2, \"d1 implement failed\"\n",
    "  assert distance(hist, hist2, d_type='d2-norm') == 2, \"d2 implement failed\"\n",
    "\n",
    "  # evaluate database\n",
    "  APs = evaluate_class(db, f_class=Color, d_type=d_type, depth=depth)\n",
    "  cls_MAPs = []\n",
    "  for cls, cls_APs in APs.items():\n",
    "    MAP = np.mean(cls_APs)\n",
    "    print(\"Class {}, MAP {}\".format(cls, MAP))\n",
    "    cls_MAPs.append(MAP)\n",
    "  print(\"MMAP\", np.mean(cls_MAPs))"
   ]
  },
  {
   "cell_type": "code",
   "execution_count": null,
   "metadata": {},
   "outputs": [],
   "source": []
  },
  {
   "cell_type": "code",
   "execution_count": null,
   "metadata": {},
   "outputs": [],
   "source": []
  },
  {
   "cell_type": "code",
   "execution_count": null,
   "metadata": {},
   "outputs": [],
   "source": []
  },
  {
   "cell_type": "code",
   "execution_count": null,
   "metadata": {},
   "outputs": [],
   "source": []
  },
  {
   "cell_type": "code",
   "execution_count": null,
   "metadata": {},
   "outputs": [],
   "source": []
  },
  {
   "cell_type": "code",
   "execution_count": null,
   "metadata": {},
   "outputs": [],
   "source": []
  },
  {
   "cell_type": "code",
   "execution_count": null,
   "metadata": {},
   "outputs": [],
   "source": []
  }
 ],
 "metadata": {
  "kernelspec": {
   "display_name": "Python 3",
   "language": "python",
   "name": "python3"
  },
  "language_info": {
   "codemirror_mode": {
    "name": "ipython",
    "version": 3
   },
   "file_extension": ".py",
   "mimetype": "text/x-python",
   "name": "python",
   "nbconvert_exporter": "python",
   "pygments_lexer": "ipython3",
   "version": "3.7.4"
  }
 },
 "nbformat": 4,
 "nbformat_minor": 2
}
